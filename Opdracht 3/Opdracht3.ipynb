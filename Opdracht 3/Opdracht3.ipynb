{
 "cells": [
  {
   "cell_type": "markdown",
   "metadata": {},
   "source": [
    "# Disclaimer: dit is een gevolgde tutorial.\n",
    "Dit is de tutorial die gevolgd heb, dit is ook de tutorial de aanbevolen werd voor de Mesa opdracht. Deze tutorial heb ik dus in dit bestand meegetypt. De enige eigen aanpassing die ik in dit bestand heb gemaakt is dat de agent 2 wealth geeft als de persoon die hij aanspreekt geen geld heeft (meer hierover in het kopje 'De MoneyAgent class'). Dit wilde ik even voor de zekerheid vermelden, voor als het opeens niet de bedoeling was dat ik deze tutorial overnam terwijl ik de tutorial volgde (voor plagiaat)."
   ]
  },
  {
   "cell_type": "markdown",
   "metadata": {},
   "source": [
    "# Imports.\n",
    "De benodigde libraries importeren."
   ]
  },
  {
   "cell_type": "code",
   "execution_count": 1,
   "metadata": {},
   "outputs": [],
   "source": [
    "from mesa import Agent, Model\n",
    "from mesa.time import RandomActivation\n",
    "import matplotlib.pyplot as plt\n",
    "from mesa.space import MultiGrid\n",
    "import numpy as np\n",
    "from mesa.datacollection import DataCollector\n",
    "from mesa.batchrunner import BatchRunner\n",
    "from mesa.visualization.modules import CanvasGrid\n",
    "from mesa.visualization.ModularVisualization import ModularServer\n",
    "from mesa.visualization.modules import ChartModule\n",
    "from mesa.visualization.ModularVisualization import VisualizationElement"
   ]
  },
  {
   "cell_type": "markdown",
   "metadata": {},
   "source": [
    "# Gini-coëfficiënt berekenen.\n",
    "De Gini-coëfficiënt is een manier om ongelijkheid van inkomensverdeling binnen een land te bekijken. De Gini-coëfficiënt neemt altijd een getal tussen de 0 en de 1 aan. Hoe hoger dit getal is, des te ongelijker het land is aangaande inkomensverdeling. Hierin betekent het getal 0 dat het inkomen volkomen gelijk verdeeld is en het getal 1 dat het inkomen volkomen ongelijk verdeeld is."
   ]
  },
  {
   "cell_type": "code",
   "execution_count": 2,
   "metadata": {},
   "outputs": [],
   "source": [
    "def compute_gini(model):\n",
    "    agent_wealths = [agent.wealth for agent in model.schedule.agents]\n",
    "    x = sorted(agent_wealths) # De wealth per agent op een rij gezet van klein naar groot.\n",
    "    N = model.num_agents # Dit zijn 50 agents in dit geval.\n",
    "    B = sum(xi * (N-i) for i,xi in enumerate(x)) / (N*sum(x)) # De formule om de Gini-coëfficiënt te berekenen.\n",
    "    return (1 + (1/N) - 2*B)"
   ]
  },
  {
   "cell_type": "markdown",
   "metadata": {},
   "source": [
    "# De MoneyAgent class.\n",
    "Functie 'step': in deze functie check de agent of hij meer dan 0 wealth heeft, als dat het geval is wordt de functie 'move'\n",
    "aangeroepen, die functie zorgt ervoor dat de agent naar één van de acht naastliggende velden gaat (Ja altijd 8 velden, als je bijvoorbeeld rechts onderin staat en je gaat naar rechts, kom je links onderin in de hoek. Als je daarna naar beneden gaat, kom je links boven in de hoek, etc.). Nadat de agent naar een ander veld is gegaan word de functie 'give_money' aangeroepen. Nadat deze functie is aangeroepen, kijkt de functie of er andere agent(s) op hetzelfde vlak staat. Als dat het geval is kiest die agent een random agent op hetzelfde vlak om wealth aan te geven, als die gekozen persoon 0 wealth heeft krijgt die agent één wealth van de agent en één wealth van de 'game' (Om zo een beetje de echte wereld te simuleren, in de echte wereld krijgen armen namelijk steun van de overheid). Als die agent meer dan 0 wealth heeft krijgt de agent alleen één wealth van de agent die aan de beurd is. Zie het zo voor je: als je een random iemand aanspreekt in een gebouw en vraagt of die persoon geld heeft, als die persoon geld heeft (dus meer dan 0 wealth) krijgt hij één euro. Als de persoon die je random aanspreekt geen geld heeft krijgt hij dus 2 euro, één van jou en één van de overheid. Dit verhaal heb ik geschreven om u een beter beeld te geven bij de situatie. In dit verhaal is het gebouw waarin u zich bevind een veld, geld is wealth en de overheid is de 'game'."
   ]
  },
  {
   "cell_type": "code",
   "execution_count": 3,
   "metadata": {},
   "outputs": [],
   "source": [
    "class MoneyAgent(Agent):\n",
    "    def __init__(self, unique_id, model):\n",
    "        super().__init__(unique_id, model)\n",
    "        self.wealth = 1\n",
    "\n",
    "    def move(self):\n",
    "        possible_steps = self.model.grid.get_neighborhood(\n",
    "            self.pos,\n",
    "            moore=True, # door deze moore= True, zijn er altijd 8 naastliggende velden.\n",
    "            include_center=False)\n",
    "        new_position = self.random.choice(possible_steps)\n",
    "        self.model.grid.move_agent(self, new_position)\n",
    "\n",
    "    def give_money(self):\n",
    "        cellmates = self.model.grid.get_cell_list_contents([self.pos])\n",
    "        other_agent = self.random.choice(cellmates)\n",
    "        if len(cellmates) > 1:\n",
    "            if other_agent.wealth == 0:\n",
    "                other_agent.wealth += 2\n",
    "                self.wealth -= 1\n",
    "            else:\n",
    "                other_agent.wealth += 1\n",
    "                self.wealth -= 1\n",
    "\n",
    "    def step(self):\n",
    "        self.move()\n",
    "        if self.wealth > 0:\n",
    "            self.give_money()"
   ]
  },
  {
   "cell_type": "markdown",
   "metadata": {},
   "source": [
    "# Het MoneyModel class.\n",
    "In deze code worden de agents en de ruimte waar de agents kunnen 'rondlopen' gemaakt. De gemaakte ruimte is in dit geval een 10 bij 10 vlak met dus 100 velden, daarna wordt elke agent in een random veld gezet. Ook geeft deze functie een random volgorde waarin de agents activeren (aan de beurd zijn)."
   ]
  },
  {
   "cell_type": "code",
   "execution_count": 4,
   "metadata": {},
   "outputs": [],
   "source": [
    "class MoneyModel(Model):\n",
    "    def __init__(self, N=100, width=10, height=10):\n",
    "        self.num_agents = N\n",
    "        self.grid = MultiGrid(height, width, True)\n",
    "        self.schedule = RandomActivation(self)\n",
    "        self.datacollector = DataCollector( \n",
    "            model_reporters={\"Gini\": compute_gini}, agent_reporters={\"Wealth\": \"wealth\"}\n",
    "        ) # haalt data op voor visualisatie 2,3 en 4\n",
    "        # Maak agents\n",
    "        for i in range(self.num_agents):\n",
    "            a = MoneyAgent(i, self)\n",
    "            self.schedule.add(a)\n",
    "            # Zet de agent in een random cell\n",
    "            x = self.random.randrange(self.grid.width)\n",
    "            y = self.random.randrange(self.grid.height)\n",
    "            self.grid.place_agent(a, (x, y))\n",
    "\n",
    "        self.running = True # Voor de Batch run\n",
    "        self.datacollector.collect(self) # haalt data op voor visualisatie 2,3 en 4\n",
    "\n",
    "    def step(self):\n",
    "        self.schedule.step()\n",
    "        self.datacollector.collect(self) # haalt data op voor visualisatie 2,3 en 4"
   ]
  },
  {
   "cell_type": "markdown",
   "metadata": {},
   "source": [
    "# Run het model.\n",
    "Hier laat je de code runnen."
   ]
  },
  {
   "cell_type": "code",
   "execution_count": 5,
   "metadata": {},
   "outputs": [],
   "source": [
    "model = MoneyModel(50, 10, 10) # agents, breedte, hoogte.\n",
    "for i in range(20): # hoevaak ieder agent aan de beurd komt, kan gezien worden als ronde van een spel.\n",
    "    model.step()"
   ]
  },
  {
   "cell_type": "markdown",
   "metadata": {},
   "source": [
    "# Visualisatie 1.\n",
    "De eerste visualisatie die u hieronder ziet is een 'heatmap', het geeft weer hoeveel agents op een veld staan aan het einde van de test. Eerst hebben we een array gemaakt in de vorm van ons bord met allemaal nullen, daarna loopen we over elke cell en verzamelen we de data en vullen we die in de 'lege' cellen in."
   ]
  },
  {
   "cell_type": "code",
   "execution_count": null,
   "metadata": {},
   "outputs": [],
   "source": [
    "agent_counts = np.zeros((model.grid.width, model.grid.height))\n",
    "for cell in model.grid.coord_iter():\n",
    "    cell_content, x, y = cell\n",
    "    agent_count = len(cell_content)\n",
    "    agent_counts[x][y] = agent_count\n",
    "plt.imshow(agent_counts, interpolation='nearest')\n",
    "plt.colorbar()"
   ]
  },
  {
   "cell_type": "markdown",
   "metadata": {},
   "source": [
    "# Opgehaalde data.\n",
    "De tabel die u hieronder ziet is een overzicht van de opgehaalde data. De data word aan het einde van elke 'step' van de test verzameld, in dit geval 20 steps. Daarom hebben nu, van elke step en elke agent de wealth die ze aan het einde van die step hadden. Met een 'step' bedoel ik de speelronde, als iedereen dus aan de beurd is geweest gaat het naar de volgende 'step'."
   ]
  },
  {
   "cell_type": "code",
   "execution_count": null,
   "metadata": {},
   "outputs": [],
   "source": [
    "agent_wealth = model.datacollector.get_agent_vars_dataframe()\n",
    "agent_wealth"
   ]
  },
  {
   "cell_type": "markdown",
   "metadata": {},
   "source": [
    "# Visualistatie 2.\n",
    "Dit laat de Gini-coëfficiënt zien over de loop van de test. De data die we hiervoor gebruiken is uitgelegd in het kopje 'Opgehaalde data.'."
   ]
  },
  {
   "cell_type": "code",
   "execution_count": null,
   "metadata": {},
   "outputs": [],
   "source": [
    "gini = model.datacollector.get_model_vars_dataframe()\n",
    "gini.plot()"
   ]
  },
  {
   "cell_type": "markdown",
   "metadata": {},
   "source": [
    "# Visualisatie 3.\n",
    "Een overzicht van hoevaak een bepaalde hoeveelheid wealth voorkwam per 'step', momenteel dus 'step' 10. Bijvoorbeeld: 1 persoon heeft 5 wealth en 14 mensen hebben 2 wealth. De data die we hiervoor gebruiken is uitgelegd in het kopje 'Opgehaalde data.'."
   ]
  },
  {
   "cell_type": "code",
   "execution_count": null,
   "metadata": {},
   "outputs": [],
   "source": [
    "end_wealth = agent_wealth.xs(10, level=\"Step\")[\"Wealth\"]\n",
    "end_wealth.hist(bins=range(agent_wealth.Wealth.max()+1))"
   ]
  },
  {
   "cell_type": "markdown",
   "metadata": {},
   "source": [
    "# Visualisatie 4.\n",
    "Hier wordt een overzicht weergegeven van de wealth van een bepaalde agent, in de loop van de test. In dit geval agent 12. De data die we hiervoor gebruiken is uitgelegd in het kopje 'Opgehaalde data.'."
   ]
  },
  {
   "cell_type": "code",
   "execution_count": null,
   "metadata": {},
   "outputs": [],
   "source": [
    "one_agent_wealth = agent_wealth.xs(12, level=\"AgentID\")\n",
    "one_agent_wealth.Wealth.plot()"
   ]
  },
  {
   "cell_type": "markdown",
   "metadata": {},
   "source": [
    "# Batch Run. \n",
    "Meestal als iemand een model maakt zoals deze, wordt het model niet maar één keer gedraaid maar honderden/duizenden keren. Daarom is Batch run gemaakt, om een model meerdere keren te laten draaien. Er zijn 'fixed_params' dat zijn parameters die altijd hetzelfde blijven, en er zijn 'variable_params' dat zijn parameters die veranderen over de tijd. Zo kunnen de data analysten zien hoe het model reageert op bepaalde aanpassingen op basis van de vergaarde data. De code zal dus wat langer duren om te laden."
   ]
  },
  {
   "cell_type": "code",
   "execution_count": null,
   "metadata": {},
   "outputs": [],
   "source": [
    "fixed_params = {\"width\": 10,\n",
    "               \"height\": 10} # het speelveld blijft hier dus altijd hetzelfde\n",
    "variable_params = {\"N\": range(10, 500, 10)} # De hoeveelheid agents varanderd, het begint bij 10 en neemt stappen van tien tot en met 490\n",
    "\n",
    "batch_run = BatchRunner(MoneyModel,\n",
    "                        variable_params,\n",
    "                        fixed_params,\n",
    "                        iterations=5,\n",
    "                        max_steps=100,\n",
    "                        model_reporters={\"Gini\": compute_gini})\n",
    "batch_run.run_all()"
   ]
  },
  {
   "cell_type": "markdown",
   "metadata": {},
   "source": [
    "# Opgehaalde data 2.\n",
    "De tabel die u hieronder ziet is een overzicht van de opgehaalde data van de Batch run. N = aantal agents."
   ]
  },
  {
   "cell_type": "code",
   "execution_count": null,
   "metadata": {},
   "outputs": [],
   "source": [
    "run_data = batch_run.get_model_vars_dataframe()\n",
    "run_data"
   ]
  },
  {
   "cell_type": "markdown",
   "metadata": {},
   "source": [
    "# Visualisatie 5.\n",
    "Hier ziet u het overzicht van de Gini-coëfficiënt over de loop van alle Runs. De data die we hiervoor gebruiken is uitgelegd in het kopje 'Opgehaalde data 2.'. Uit deze data is te constateren dat met meer mensen de Gini-coëfficiënt minder omhoog en omlaag gaat."
   ]
  },
  {
   "cell_type": "code",
   "execution_count": null,
   "metadata": {},
   "outputs": [],
   "source": [
    "plt.scatter(run_data.N, run_data.Gini)"
   ]
  },
  {
   "cell_type": "markdown",
   "metadata": {},
   "source": [
    "# GUI. \n",
    "Hier wordt de GUI gemaakt waar u de agents kan zien bewegen over het bord. In de functie 'agent_portrayal' wordt meegegeven hoe de agents eruit moeten zien op basis van hoevel wealth ze hebben, ze hebben de agents met een paarse kleur meer dan drie wealth (wealth > 3), men met één of twee wealth rood en mensen zonder wealth zijn grijs. De GUI wordt geopend in een webbrowser, waar te zien zal zijn hoe de agents bewegen, de kleuren zien veranderen en er is een chart te zien die de Gini-coëfficiënt live weergeeft. U kunt zelf instellen met hoeveelstappen per seconde de agents bewegen."
   ]
  },
  {
   "cell_type": "code",
   "execution_count": 6,
   "metadata": {},
   "outputs": [
    {
     "name": "stdout",
     "output_type": "stream",
     "text": [
      "Interface starting at http://127.0.0.1:8521\n"
     ]
    },
    {
     "ename": "RuntimeError",
     "evalue": "This event loop is already running",
     "output_type": "error",
     "traceback": [
      "\u001b[1;31m---------------------------------------------------------------------------\u001b[0m",
      "\u001b[1;31mRuntimeError\u001b[0m                              Traceback (most recent call last)",
      "\u001b[1;32m<ipython-input-6-e2395fe93dc0>\u001b[0m in \u001b[0;36m<module>\u001b[1;34m\u001b[0m\n\u001b[0;32m     30\u001b[0m                        \u001b[1;34m\"Money Model\"\u001b[0m\u001b[1;33m,\u001b[0m\u001b[1;33m\u001b[0m\u001b[1;33m\u001b[0m\u001b[0m\n\u001b[0;32m     31\u001b[0m                        {\"N\":100, \"width\":10, \"height\":10})\n\u001b[1;32m---> 32\u001b[1;33m \u001b[0mserver\u001b[0m\u001b[1;33m.\u001b[0m\u001b[0mlaunch\u001b[0m\u001b[1;33m(\u001b[0m\u001b[1;33m)\u001b[0m\u001b[1;33m\u001b[0m\u001b[1;33m\u001b[0m\u001b[0m\n\u001b[0m",
      "\u001b[1;32mc:\\users\\game pc\\appdata\\local\\programs\\python\\python38\\lib\\site-packages\\mesa\\visualization\\ModularVisualization.py\u001b[0m in \u001b[0;36mlaunch\u001b[1;34m(self, port, open_browser)\u001b[0m\n\u001b[0;32m    335\u001b[0m             \u001b[0mwebbrowser\u001b[0m\u001b[1;33m.\u001b[0m\u001b[0mopen\u001b[0m\u001b[1;33m(\u001b[0m\u001b[0murl\u001b[0m\u001b[1;33m)\u001b[0m\u001b[1;33m\u001b[0m\u001b[1;33m\u001b[0m\u001b[0m\n\u001b[0;32m    336\u001b[0m         \u001b[0mtornado\u001b[0m\u001b[1;33m.\u001b[0m\u001b[0mautoreload\u001b[0m\u001b[1;33m.\u001b[0m\u001b[0mstart\u001b[0m\u001b[1;33m(\u001b[0m\u001b[1;33m)\u001b[0m\u001b[1;33m\u001b[0m\u001b[1;33m\u001b[0m\u001b[0m\n\u001b[1;32m--> 337\u001b[1;33m         \u001b[0mtornado\u001b[0m\u001b[1;33m.\u001b[0m\u001b[0mioloop\u001b[0m\u001b[1;33m.\u001b[0m\u001b[0mIOLoop\u001b[0m\u001b[1;33m.\u001b[0m\u001b[0mcurrent\u001b[0m\u001b[1;33m(\u001b[0m\u001b[1;33m)\u001b[0m\u001b[1;33m.\u001b[0m\u001b[0mstart\u001b[0m\u001b[1;33m(\u001b[0m\u001b[1;33m)\u001b[0m\u001b[1;33m\u001b[0m\u001b[1;33m\u001b[0m\u001b[0m\n\u001b[0m",
      "\u001b[1;32mc:\\users\\game pc\\appdata\\local\\programs\\python\\python38\\lib\\site-packages\\tornado\\platform\\asyncio.py\u001b[0m in \u001b[0;36mstart\u001b[1;34m(self)\u001b[0m\n\u001b[0;32m    147\u001b[0m             \u001b[0mself\u001b[0m\u001b[1;33m.\u001b[0m\u001b[0m_setup_logging\u001b[0m\u001b[1;33m(\u001b[0m\u001b[1;33m)\u001b[0m\u001b[1;33m\u001b[0m\u001b[1;33m\u001b[0m\u001b[0m\n\u001b[0;32m    148\u001b[0m             \u001b[0masyncio\u001b[0m\u001b[1;33m.\u001b[0m\u001b[0mset_event_loop\u001b[0m\u001b[1;33m(\u001b[0m\u001b[0mself\u001b[0m\u001b[1;33m.\u001b[0m\u001b[0masyncio_loop\u001b[0m\u001b[1;33m)\u001b[0m\u001b[1;33m\u001b[0m\u001b[1;33m\u001b[0m\u001b[0m\n\u001b[1;32m--> 149\u001b[1;33m             \u001b[0mself\u001b[0m\u001b[1;33m.\u001b[0m\u001b[0masyncio_loop\u001b[0m\u001b[1;33m.\u001b[0m\u001b[0mrun_forever\u001b[0m\u001b[1;33m(\u001b[0m\u001b[1;33m)\u001b[0m\u001b[1;33m\u001b[0m\u001b[1;33m\u001b[0m\u001b[0m\n\u001b[0m\u001b[0;32m    150\u001b[0m         \u001b[1;32mfinally\u001b[0m\u001b[1;33m:\u001b[0m\u001b[1;33m\u001b[0m\u001b[1;33m\u001b[0m\u001b[0m\n\u001b[0;32m    151\u001b[0m             \u001b[0masyncio\u001b[0m\u001b[1;33m.\u001b[0m\u001b[0mset_event_loop\u001b[0m\u001b[1;33m(\u001b[0m\u001b[0mold_loop\u001b[0m\u001b[1;33m)\u001b[0m\u001b[1;33m\u001b[0m\u001b[1;33m\u001b[0m\u001b[0m\n",
      "\u001b[1;32mc:\\users\\game pc\\appdata\\local\\programs\\python\\python38\\lib\\asyncio\\base_events.py\u001b[0m in \u001b[0;36mrun_forever\u001b[1;34m(self)\u001b[0m\n\u001b[0;32m    548\u001b[0m         \u001b[0mself\u001b[0m\u001b[1;33m.\u001b[0m\u001b[0m_check_closed\u001b[0m\u001b[1;33m(\u001b[0m\u001b[1;33m)\u001b[0m\u001b[1;33m\u001b[0m\u001b[1;33m\u001b[0m\u001b[0m\n\u001b[0;32m    549\u001b[0m         \u001b[1;32mif\u001b[0m \u001b[0mself\u001b[0m\u001b[1;33m.\u001b[0m\u001b[0mis_running\u001b[0m\u001b[1;33m(\u001b[0m\u001b[1;33m)\u001b[0m\u001b[1;33m:\u001b[0m\u001b[1;33m\u001b[0m\u001b[1;33m\u001b[0m\u001b[0m\n\u001b[1;32m--> 550\u001b[1;33m             \u001b[1;32mraise\u001b[0m \u001b[0mRuntimeError\u001b[0m\u001b[1;33m(\u001b[0m\u001b[1;34m'This event loop is already running'\u001b[0m\u001b[1;33m)\u001b[0m\u001b[1;33m\u001b[0m\u001b[1;33m\u001b[0m\u001b[0m\n\u001b[0m\u001b[0;32m    551\u001b[0m         \u001b[1;32mif\u001b[0m \u001b[0mevents\u001b[0m\u001b[1;33m.\u001b[0m\u001b[0m_get_running_loop\u001b[0m\u001b[1;33m(\u001b[0m\u001b[1;33m)\u001b[0m \u001b[1;32mis\u001b[0m \u001b[1;32mnot\u001b[0m \u001b[1;32mNone\u001b[0m\u001b[1;33m:\u001b[0m\u001b[1;33m\u001b[0m\u001b[1;33m\u001b[0m\u001b[0m\n\u001b[0;32m    552\u001b[0m             raise RuntimeError(\n",
      "\u001b[1;31mRuntimeError\u001b[0m: This event loop is already running"
     ]
    },
    {
     "name": "stdout",
     "output_type": "stream",
     "text": [
      "Socket opened!\n",
      "{\"type\":\"reset\"}\n",
      "{\"type\":\"get_step\",\"step\":1}\n",
      "{\"type\":\"get_step\",\"step\":2}\n",
      "{\"type\":\"get_step\",\"step\":3}\n",
      "{\"type\":\"get_step\",\"step\":4}\n",
      "{\"type\":\"get_step\",\"step\":5}\n",
      "{\"type\":\"get_step\",\"step\":6}\n",
      "{\"type\":\"get_step\",\"step\":7}\n",
      "{\"type\":\"get_step\",\"step\":8}\n",
      "{\"type\":\"get_step\",\"step\":9}\n",
      "{\"type\":\"get_step\",\"step\":10}\n",
      "{\"type\":\"get_step\",\"step\":11}\n",
      "{\"type\":\"get_step\",\"step\":12}\n",
      "{\"type\":\"get_step\",\"step\":13}\n",
      "{\"type\":\"get_step\",\"step\":14}\n"
     ]
    }
   ],
   "source": [
    "def agent_portrayal(agent):\n",
    "    portrayal = {\"Shape\": \"circle\",\n",
    "                 \"Filled\": \"true\",\n",
    "                 \"r\": 0.5}\n",
    "\n",
    "    if agent.wealth > 0:\n",
    "        portrayal[\"Color\"] = \"red\"\n",
    "        portrayal[\"Layer\"] = 3\n",
    "        portrayal[\"r\"] = 0.5\n",
    "    if agent.wealth > 3:\n",
    "        portrayal[\"Color\"] = \"purple\"\n",
    "        portrayal[\"Layer\"] = 2\n",
    "        portrayal[\"r\"] = 0.75\n",
    "    if agent.wealth < 1:\n",
    "        portrayal[\"Color\"] = \"grey\"\n",
    "        portrayal[\"Layer\"] = 4\n",
    "        portrayal[\"r\"] = 0.25\n",
    "        \n",
    "    return portrayal\n",
    "\n",
    "grid = CanvasGrid(agent_portrayal, 10, 10, 500, 500)\n",
    "\n",
    "\n",
    "chart = ChartModule([{\"Label\": \"Gini\",\n",
    "                      \"Color\": \"black\"}],\n",
    "                    data_collector_name='datacollector')\n",
    "\n",
    "server = ModularServer(MoneyModel,\n",
    "                       [grid, chart],\n",
    "                       \"Money Model\",\n",
    "                       {\"N\":100, \"width\":10, \"height\":10})\n",
    "server.launch()"
   ]
  },
  {
   "cell_type": "code",
   "execution_count": null,
   "metadata": {},
   "outputs": [],
   "source": []
  }
 ],
 "metadata": {
  "kernelspec": {
   "display_name": "Python 3",
   "language": "python",
   "name": "python3"
  },
  "language_info": {
   "codemirror_mode": {
    "name": "ipython",
    "version": 3
   },
   "file_extension": ".py",
   "mimetype": "text/x-python",
   "name": "python",
   "nbconvert_exporter": "python",
   "pygments_lexer": "ipython3",
   "version": "3.8.0"
  }
 },
 "nbformat": 4,
 "nbformat_minor": 4
}
