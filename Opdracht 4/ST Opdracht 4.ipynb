{
 "cells": [
  {
   "cell_type": "markdown",
   "metadata": {},
   "source": [
    "# Imports\n",
    "De benodigde libraries importeren."
   ]
  },
  {
   "cell_type": "code",
   "execution_count": 19,
   "metadata": {},
   "outputs": [],
   "source": [
    "from mesa import Agent, Model\n",
    "import random\n",
    "from mesa.space import SingleGrid\n",
    "from mesa.time import BaseScheduler\n",
    "from mesa.datacollection import DataCollector\n",
    "from mesa.batchrunner import BatchRunner"
   ]
  },
  {
   "cell_type": "markdown",
   "metadata": {},
   "source": [
    "# De CarAgent class\n",
    "In deze class wordt de auto (agent) gemaakt, elke auto heeft twee waardes: de snelheid en zijn posiitie op de weg. In de functie 'optrekken' krijgt de auto de mogelijkheid zoals de naam al verklapt: op te trekken. Dit doet de auto als hij niet de maximum snelheid rijdt, in dit geval als de snelheid onder de 5 is dus. 'remmen' De auto remt als de cel waar de auto heen wilt gaan al bezet is door een andere auto, als dit het geval is wordt de snelheid meet één verminderd, daarna wordt de functie nog een keer aangeroepen om te kijken of het dan nog niet past wordt de snelheid weer met één verminderd totdat het wel past. In de functie 'move' krijgt de auto de mogelijkheid om te verplaatsen, de auto zal verplaatsen het aantal cellen vooruitgaan wat gelijk staat aan de snelheid van de auto, dus als de auto nu op cel 42 staat met een snelheid van 4 zal de auto naar cel 46 gaan (als cel 46 niet bezet is dan, als dat wel het geval is gaat de functie 'remmen' in werking). 'role_of_randomization' Hier  heeft de auto een 50% (dit percentage kan veranderd worden) kans dat de snelheid afneemt met één."
   ]
  },
  {
   "cell_type": "code",
   "execution_count": 20,
   "metadata": {},
   "outputs": [],
   "source": [
    "class CarAgent(Agent):\n",
    "\n",
    "    max_snelheid = 5\n",
    "\n",
    "    # Elke auto begint met een random snelheid, van 3 T/M 5.\n",
    "    def __init__(self, pos, model):\n",
    "        super().__init__(pos, model)\n",
    "        self.snelheid = random.randint(3, 5)\n",
    "        self.pos = pos\n",
    "\n",
    "\n",
    "    def optrekken(self):\n",
    "        if self.snelheid < CarAgent.max_snelheid:\n",
    "            self.snelheid += 1\n",
    "\n",
    "        return self.snelheid\n",
    "\n",
    "    def remmen(self):\n",
    "        if self.model.grid.is_cell_empty(self.model.grid.torus_adj((self.pos[0]+self.snelheid, self.pos[1]))):\n",
    "            self.snelheid == self.snelheid\n",
    "        else: \n",
    "            if self.snelheid > 0:\n",
    "                self.snelheid -= 1\n",
    "                self.remmen() \n",
    "\n",
    "        return self.snelheid\n",
    "\n",
    "    def move(self):\n",
    "        if self.model.grid.is_cell_empty(self.model.grid.torus_adj((self.pos[0]+self.snelheid, self.pos[1]))):\n",
    "            self.model.grid.move_agent(self,self.model.grid.torus_adj((self.pos[0]+self.snelheid, self.pos[1])))\n",
    "\n",
    "    def role_of_randomization(self):\n",
    "        if self.snelheid > 1:\n",
    "            if random.randint(0,1) == 1:\n",
    "                self.snelheid -= 1\n",
    "            else:\n",
    "                self.snelheid = self.snelheid\n",
    "\n",
    "        return self.snelheid\n",
    "    \n",
    "    def step(self):\n",
    "        self.optrekken()\n",
    "        self.remmen()\n",
    "        self.move()\n",
    "        self.role_of_randomization()\n",
    "        print (\"Ik ben auto: \" + str(self.unique_id) + \" Snelheid:\" + str(self.snelheid))\n",
    "        print(self.pos)"
   ]
  },
  {
   "cell_type": "markdown",
   "metadata": {},
   "source": [
    "# De CarModel class\n",
    "In deze class gebeuren een paar dingen, de auto's worden gemaakt en krijgen een random positie op de weg en er wordt data verzameld. Ook worden hier de dementies van de weg gemaakt, de breedte (oftewel de lengte van de weg). Voor dit onderzoek was het data collecten een van de belangrijke dingen, alleen is er één probleem, de posities van de auto kunnen niet goed opgeslagen worden. Daarom heb ik ervoor gezorgd dat de informatie ook geprint wordt.\n",
    "\n",
    "Een voorbeeld:\n",
    "Ik ben auto: (72, 5) Snelheid:4\n",
    "(4, 0)\n",
    "Dit is een mogelijke output, de naam hier is (72,5), de snelheid is 4 en de positie is (4,0) dit betekent dat hij op cel 4 staat van de weg. Het tweede getal is altijd nul in dit geval omdat er maar één weg is."
   ]
  },
  {
   "cell_type": "code",
   "execution_count": 21,
   "metadata": {},
   "outputs": [],
   "source": [
    "class CarModel(Model):\n",
    "    \n",
    "    def __init(self, height, width, car_amount):\n",
    "        super().__init__()\n",
    "        self.height = height\n",
    "        self.width = width\n",
    "        self.car_amount = car_amount\n",
    "        \n",
    "        self.schedule = BaseScheduler(self)\n",
    "        self.datacollector = DataCollecter(\n",
    "            agent_reporters = {\"Snelheid\": \"snelheid\"})\n",
    "        self.grid = SingleGrid(height, width, torus=True)\n",
    "        \n",
    "        self.running = True\n",
    "        \n",
    "    def maak_agent(self):\n",
    "        for i in range(self.car_amount):\n",
    "            while True:\n",
    "                try:\n",
    "                    r =  random.random()\n",
    "                    agent = CarAgent((int(r*100), 5), self)\n",
    "                    self.grid.position_agent(agent, int(r*100))\n",
    "                    self.schedule.add(agent)\n",
    "                    break\n",
    "                except Exception as e:\n",
    "                    continue\n",
    "\n",
    "        self.maak_agent()\n",
    "                    \n",
    "        self.datacollector.collect(self)\n",
    "\n",
    "    def step(self):\n",
    "        self.schedule.step()\n",
    "        self.datacollector.collect(self)"
   ]
  },
  {
   "cell_type": "markdown",
   "metadata": {},
   "source": [
    "### Het runnen van de simulatie zonder visualisatie\n",
    "Hier wordt de class CarModel aangeroepen, in dit geval met de waardes: (100,1,45) Dit betekent dat de weg 100 cellen lang is, één hoog en er 45 auto's op rijden. We zullen de simulatie met meerde hoeveelheden auto's laten draaien, de andere twee waardes zullen hetzelfde blijven. Elke simulatie zal 1000 steps hebben, een step kan gezien worden als een beurt, in elke step komt elke auto één keer aan de beurt."
   ]
  },
  {
   "cell_type": "code",
   "execution_count": 22,
   "metadata": {},
   "outputs": [
    {
     "ename": "AttributeError",
     "evalue": "'CarModel' object has no attribute 'test'",
     "output_type": "error",
     "traceback": [
      "\u001b[1;31m---------------------------------------------------------------------------\u001b[0m",
      "\u001b[1;31mAttributeError\u001b[0m                            Traceback (most recent call last)",
      "\u001b[1;32m<ipython-input-22-28e530e3c232>\u001b[0m in \u001b[0;36m<module>\u001b[1;34m\u001b[0m\n\u001b[0;32m      1\u001b[0m \u001b[0mmodel\u001b[0m \u001b[1;33m=\u001b[0m \u001b[0mCarModel\u001b[0m\u001b[1;33m(\u001b[0m\u001b[1;36m100\u001b[0m\u001b[1;33m,\u001b[0m \u001b[1;36m1\u001b[0m\u001b[1;33m,\u001b[0m \u001b[1;36m10\u001b[0m\u001b[1;33m)\u001b[0m\u001b[1;33m\u001b[0m\u001b[1;33m\u001b[0m\u001b[0m\n\u001b[0;32m      2\u001b[0m \u001b[1;32mfor\u001b[0m \u001b[0mi\u001b[0m \u001b[1;32min\u001b[0m \u001b[0mrange\u001b[0m\u001b[1;33m(\u001b[0m\u001b[1;36m1000\u001b[0m\u001b[1;33m)\u001b[0m\u001b[1;33m:\u001b[0m\u001b[1;33m\u001b[0m\u001b[1;33m\u001b[0m\u001b[0m\n\u001b[1;32m----> 3\u001b[1;33m     \u001b[0mmodel\u001b[0m\u001b[1;33m.\u001b[0m\u001b[0mtest\u001b[0m\u001b[1;33m(\u001b[0m\u001b[1;33m)\u001b[0m\u001b[1;33m\u001b[0m\u001b[1;33m\u001b[0m\u001b[0m\n\u001b[0m",
      "\u001b[1;31mAttributeError\u001b[0m: 'CarModel' object has no attribute 'test'"
     ]
    }
   ],
   "source": [
    "model = CarModel(100, 1, 10) \n",
    "for i in range(1000):\n",
    "    model.test()"
   ]
  },
  {
   "cell_type": "code",
   "execution_count": null,
   "metadata": {},
   "outputs": [],
   "source": [
    "agent_snelheden = model.datacollecter.get_agent_vars_dataframe()\n",
    "agent_snelheden.plot()"
   ]
  },
  {
   "cell_type": "code",
   "execution_count": null,
   "metadata": {},
   "outputs": [],
   "source": [
    "agent_snelheden.mean()"
   ]
  },
  {
   "cell_type": "code",
   "execution_count": null,
   "metadata": {},
   "outputs": [],
   "source": [
    "end_snelheden = agent_snelheden.xs(1000, level=\"Step\")[\"Snelheid\"]\n",
    "end_snelheden.hist(bins=range(agent_snelheden.Snelheid.max()+1))"
   ]
  },
  {
   "cell_type": "code",
   "execution_count": null,
   "metadata": {},
   "outputs": [],
   "source": []
  },
  {
   "cell_type": "code",
   "execution_count": 8,
   "metadata": {},
   "outputs": [
    {
     "name": "stdout",
     "output_type": "stream",
     "text": [
      "Interface starting at http://127.0.0.1:8529\n"
     ]
    },
    {
     "ename": "RuntimeError",
     "evalue": "This event loop is already running",
     "output_type": "error",
     "traceback": [
      "\u001b[1;31m---------------------------------------------------------------------------\u001b[0m",
      "\u001b[1;31mRuntimeError\u001b[0m                              Traceback (most recent call last)",
      "\u001b[1;32m<ipython-input-8-db1bbd69f6ee>\u001b[0m in \u001b[0;36m<module>\u001b[1;34m\u001b[0m\n\u001b[0;32m     25\u001b[0m                        \"Nagel-Schreckenberg\", model_params)\n\u001b[0;32m     26\u001b[0m \u001b[0mserver\u001b[0m\u001b[1;33m.\u001b[0m\u001b[0mport\u001b[0m \u001b[1;33m=\u001b[0m \u001b[1;36m8529\u001b[0m\u001b[1;33m\u001b[0m\u001b[1;33m\u001b[0m\u001b[0m\n\u001b[1;32m---> 27\u001b[1;33m \u001b[0mserver\u001b[0m\u001b[1;33m.\u001b[0m\u001b[0mlaunch\u001b[0m\u001b[1;33m(\u001b[0m\u001b[1;33m)\u001b[0m\u001b[1;33m\u001b[0m\u001b[1;33m\u001b[0m\u001b[0m\n\u001b[0m",
      "\u001b[1;32mc:\\users\\game pc\\appdata\\local\\programs\\python\\python38\\lib\\site-packages\\mesa\\visualization\\ModularVisualization.py\u001b[0m in \u001b[0;36mlaunch\u001b[1;34m(self, port, open_browser)\u001b[0m\n\u001b[0;32m    335\u001b[0m             \u001b[0mwebbrowser\u001b[0m\u001b[1;33m.\u001b[0m\u001b[0mopen\u001b[0m\u001b[1;33m(\u001b[0m\u001b[0murl\u001b[0m\u001b[1;33m)\u001b[0m\u001b[1;33m\u001b[0m\u001b[1;33m\u001b[0m\u001b[0m\n\u001b[0;32m    336\u001b[0m         \u001b[0mtornado\u001b[0m\u001b[1;33m.\u001b[0m\u001b[0mautoreload\u001b[0m\u001b[1;33m.\u001b[0m\u001b[0mstart\u001b[0m\u001b[1;33m(\u001b[0m\u001b[1;33m)\u001b[0m\u001b[1;33m\u001b[0m\u001b[1;33m\u001b[0m\u001b[0m\n\u001b[1;32m--> 337\u001b[1;33m         \u001b[0mtornado\u001b[0m\u001b[1;33m.\u001b[0m\u001b[0mioloop\u001b[0m\u001b[1;33m.\u001b[0m\u001b[0mIOLoop\u001b[0m\u001b[1;33m.\u001b[0m\u001b[0mcurrent\u001b[0m\u001b[1;33m(\u001b[0m\u001b[1;33m)\u001b[0m\u001b[1;33m.\u001b[0m\u001b[0mstart\u001b[0m\u001b[1;33m(\u001b[0m\u001b[1;33m)\u001b[0m\u001b[1;33m\u001b[0m\u001b[1;33m\u001b[0m\u001b[0m\n\u001b[0m",
      "\u001b[1;32mc:\\users\\game pc\\appdata\\local\\programs\\python\\python38\\lib\\site-packages\\tornado\\platform\\asyncio.py\u001b[0m in \u001b[0;36mstart\u001b[1;34m(self)\u001b[0m\n\u001b[0;32m    147\u001b[0m             \u001b[0mself\u001b[0m\u001b[1;33m.\u001b[0m\u001b[0m_setup_logging\u001b[0m\u001b[1;33m(\u001b[0m\u001b[1;33m)\u001b[0m\u001b[1;33m\u001b[0m\u001b[1;33m\u001b[0m\u001b[0m\n\u001b[0;32m    148\u001b[0m             \u001b[0masyncio\u001b[0m\u001b[1;33m.\u001b[0m\u001b[0mset_event_loop\u001b[0m\u001b[1;33m(\u001b[0m\u001b[0mself\u001b[0m\u001b[1;33m.\u001b[0m\u001b[0masyncio_loop\u001b[0m\u001b[1;33m)\u001b[0m\u001b[1;33m\u001b[0m\u001b[1;33m\u001b[0m\u001b[0m\n\u001b[1;32m--> 149\u001b[1;33m             \u001b[0mself\u001b[0m\u001b[1;33m.\u001b[0m\u001b[0masyncio_loop\u001b[0m\u001b[1;33m.\u001b[0m\u001b[0mrun_forever\u001b[0m\u001b[1;33m(\u001b[0m\u001b[1;33m)\u001b[0m\u001b[1;33m\u001b[0m\u001b[1;33m\u001b[0m\u001b[0m\n\u001b[0m\u001b[0;32m    150\u001b[0m         \u001b[1;32mfinally\u001b[0m\u001b[1;33m:\u001b[0m\u001b[1;33m\u001b[0m\u001b[1;33m\u001b[0m\u001b[0m\n\u001b[0;32m    151\u001b[0m             \u001b[0masyncio\u001b[0m\u001b[1;33m.\u001b[0m\u001b[0mset_event_loop\u001b[0m\u001b[1;33m(\u001b[0m\u001b[0mold_loop\u001b[0m\u001b[1;33m)\u001b[0m\u001b[1;33m\u001b[0m\u001b[1;33m\u001b[0m\u001b[0m\n",
      "\u001b[1;32mc:\\users\\game pc\\appdata\\local\\programs\\python\\python38\\lib\\asyncio\\base_events.py\u001b[0m in \u001b[0;36mrun_forever\u001b[1;34m(self)\u001b[0m\n\u001b[0;32m    548\u001b[0m         \u001b[0mself\u001b[0m\u001b[1;33m.\u001b[0m\u001b[0m_check_closed\u001b[0m\u001b[1;33m(\u001b[0m\u001b[1;33m)\u001b[0m\u001b[1;33m\u001b[0m\u001b[1;33m\u001b[0m\u001b[0m\n\u001b[0;32m    549\u001b[0m         \u001b[1;32mif\u001b[0m \u001b[0mself\u001b[0m\u001b[1;33m.\u001b[0m\u001b[0mis_running\u001b[0m\u001b[1;33m(\u001b[0m\u001b[1;33m)\u001b[0m\u001b[1;33m:\u001b[0m\u001b[1;33m\u001b[0m\u001b[1;33m\u001b[0m\u001b[0m\n\u001b[1;32m--> 550\u001b[1;33m             \u001b[1;32mraise\u001b[0m \u001b[0mRuntimeError\u001b[0m\u001b[1;33m(\u001b[0m\u001b[1;34m'This event loop is already running'\u001b[0m\u001b[1;33m)\u001b[0m\u001b[1;33m\u001b[0m\u001b[1;33m\u001b[0m\u001b[0m\n\u001b[0m\u001b[0;32m    551\u001b[0m         \u001b[1;32mif\u001b[0m \u001b[0mevents\u001b[0m\u001b[1;33m.\u001b[0m\u001b[0m_get_running_loop\u001b[0m\u001b[1;33m(\u001b[0m\u001b[1;33m)\u001b[0m \u001b[1;32mis\u001b[0m \u001b[1;32mnot\u001b[0m \u001b[1;32mNone\u001b[0m\u001b[1;33m:\u001b[0m\u001b[1;33m\u001b[0m\u001b[1;33m\u001b[0m\u001b[0m\n\u001b[0;32m    552\u001b[0m             raise RuntimeError(\n",
      "\u001b[1;31mRuntimeError\u001b[0m: This event loop is already running"
     ]
    },
    {
     "name": "stdout",
     "output_type": "stream",
     "text": [
      "Socket opened!\n",
      "{\"type\":\"reset\"}\n"
     ]
    }
   ],
   "source": [
    "from mesa.visualization.modules import CanvasGrid\n",
    "from mesa.visualization.ModularVisualization import ModularServer\n",
    "from mesa.visualization.UserParam import UserSettableParameter\n",
    "\n",
    "def car_draw(agent):\n",
    "\n",
    "    if agent.snelheid > 3:\n",
    "        color = 'green'\n",
    "    if 1 < agent.snelheid < 4:\n",
    "        color = ' orange'\n",
    "    if agent.snelheid < 2:\n",
    "        color = 'red'\n",
    "    return {\"Shape\": \"rect\", \"w\": 0.5,\"h\": 40, \"Filled\": \"true\", \"Layer\": 0, \"Color\": color, \"stroke_color\": \"#00FF00\" }\n",
    "\n",
    "canvas_element = CanvasGrid(car_draw, 100, 1, 500, 500)\n",
    "\n",
    "model_params = {\n",
    "    \"height\": 100,\n",
    "    \"width\": 1,\n",
    "    \"car_amount\": UserSettableParameter(\"slider\", \"Number of Cars\", 10, 1, 100 , 1)\n",
    "}\n",
    "\n",
    "server = ModularServer(CarModel,\n",
    "                       [canvas_element],\n",
    "                       \"Nagel-Schreckenberg\", model_params)\n",
    "server.port = 8529\n",
    "server.launch()"
   ]
  },
  {
   "cell_type": "code",
   "execution_count": null,
   "metadata": {},
   "outputs": [],
   "source": []
  }
 ],
 "metadata": {
  "kernelspec": {
   "display_name": "Python 3",
   "language": "python",
   "name": "python3"
  },
  "language_info": {
   "codemirror_mode": {
    "name": "ipython",
    "version": 3
   },
   "file_extension": ".py",
   "mimetype": "text/x-python",
   "name": "python",
   "nbconvert_exporter": "python",
   "pygments_lexer": "ipython3",
   "version": "3.8.0"
  }
 },
 "nbformat": 4,
 "nbformat_minor": 4
}
